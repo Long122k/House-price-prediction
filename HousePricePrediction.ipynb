{
  "nbformat": 4,
  "nbformat_minor": 0,
  "metadata": {
    "colab": {
      "name": "HousePricePrediction.ipynb",
      "provenance": [],
      "collapsed_sections": []
    },
    "kernelspec": {
      "display_name": "Python [conda env:HousePrice]",
      "language": "python",
      "name": "conda-env-HousePrice-py"
    },
    "accelerator": "GPU"
  },
  "cells": [
    {
      "cell_type": "markdown",
      "metadata": {
        "id": "NWN9DF8AZlSq"
      },
      "source": [
        "# Importing libraries"
      ]
    },
    {
      "cell_type": "code",
      "metadata": {
        "id": "M8_K262robZI"
      },
      "source": [
        "import pandas as pd\n",
        "import numpy as np\n",
        "import os\n",
        "import matplotlib.pyplot as plt\n",
        "from sklearn.linear_model import RidgeCV, LassoCV\n",
        "from sklearn.metrics import mean_squared_error as mse\n",
        "from scipy.stats import skew\n",
        "%matplotlib inline"
      ],
      "execution_count": null,
      "outputs": []
    },
    {
      "cell_type": "markdown",
      "metadata": {
        "id": "4ipWqm-DZ24-"
      },
      "source": [
        "# Reading Data"
      ]
    },
    {
      "cell_type": "code",
      "metadata": {
        "id": "F0y36RdBobZO"
      },
      "source": [
        "#read data\n",
        "train_data = pd.read_csv(\"train.csv\")\n",
        "test_data = pd.read_csv(\"test.csv\")"
      ],
      "execution_count": null,
      "outputs": []
    },
    {
      "cell_type": "markdown",
      "metadata": {
        "id": "EEzjUrk8obZS"
      },
      "source": [
        "# Describing Training Data"
      ]
    },
    {
      "cell_type": "code",
      "metadata": {
        "id": "pDfTsrwxobZT",
        "colab": {
          "base_uri": "https://localhost:8080/",
          "height": 316
        },
        "outputId": "6ed904c6-88a9-4b73-bf0a-507b55b3f3c7"
      },
      "source": [
        "train_data_numeric = train_data.select_dtypes(exclude=\"object\")\n",
        "train_data_numeric.describe()"
      ],
      "execution_count": null,
      "outputs": [
        {
          "output_type": "execute_result",
          "data": {
            "text/html": [
              "<div>\n",
              "<style scoped>\n",
              "    .dataframe tbody tr th:only-of-type {\n",
              "        vertical-align: middle;\n",
              "    }\n",
              "\n",
              "    .dataframe tbody tr th {\n",
              "        vertical-align: top;\n",
              "    }\n",
              "\n",
              "    .dataframe thead th {\n",
              "        text-align: right;\n",
              "    }\n",
              "</style>\n",
              "<table border=\"1\" class=\"dataframe\">\n",
              "  <thead>\n",
              "    <tr style=\"text-align: right;\">\n",
              "      <th></th>\n",
              "      <th>Id</th>\n",
              "      <th>MSSubClass</th>\n",
              "      <th>LotFrontage</th>\n",
              "      <th>LotArea</th>\n",
              "      <th>OverallQual</th>\n",
              "      <th>OverallCond</th>\n",
              "      <th>YearBuilt</th>\n",
              "      <th>YearRemodAdd</th>\n",
              "      <th>MasVnrArea</th>\n",
              "      <th>BsmtFinSF1</th>\n",
              "      <th>BsmtFinSF2</th>\n",
              "      <th>BsmtUnfSF</th>\n",
              "      <th>TotalBsmtSF</th>\n",
              "      <th>1stFlrSF</th>\n",
              "      <th>2ndFlrSF</th>\n",
              "      <th>LowQualFinSF</th>\n",
              "      <th>GrLivArea</th>\n",
              "      <th>BsmtFullBath</th>\n",
              "      <th>BsmtHalfBath</th>\n",
              "      <th>FullBath</th>\n",
              "      <th>HalfBath</th>\n",
              "      <th>BedroomAbvGr</th>\n",
              "      <th>KitchenAbvGr</th>\n",
              "      <th>TotRmsAbvGrd</th>\n",
              "      <th>Fireplaces</th>\n",
              "      <th>GarageYrBlt</th>\n",
              "      <th>GarageCars</th>\n",
              "      <th>GarageArea</th>\n",
              "      <th>WoodDeckSF</th>\n",
              "      <th>OpenPorchSF</th>\n",
              "      <th>EnclosedPorch</th>\n",
              "      <th>3SsnPorch</th>\n",
              "      <th>ScreenPorch</th>\n",
              "      <th>PoolArea</th>\n",
              "      <th>MiscVal</th>\n",
              "      <th>MoSold</th>\n",
              "      <th>YrSold</th>\n",
              "      <th>SalePrice</th>\n",
              "    </tr>\n",
              "  </thead>\n",
              "  <tbody>\n",
              "    <tr>\n",
              "      <th>count</th>\n",
              "      <td>1460.000000</td>\n",
              "      <td>1460.000000</td>\n",
              "      <td>1201.000000</td>\n",
              "      <td>1460.000000</td>\n",
              "      <td>1460.000000</td>\n",
              "      <td>1460.000000</td>\n",
              "      <td>1460.000000</td>\n",
              "      <td>1460.000000</td>\n",
              "      <td>1452.000000</td>\n",
              "      <td>1460.000000</td>\n",
              "      <td>1460.000000</td>\n",
              "      <td>1460.000000</td>\n",
              "      <td>1460.000000</td>\n",
              "      <td>1460.000000</td>\n",
              "      <td>1460.000000</td>\n",
              "      <td>1460.000000</td>\n",
              "      <td>1460.000000</td>\n",
              "      <td>1460.000000</td>\n",
              "      <td>1460.000000</td>\n",
              "      <td>1460.000000</td>\n",
              "      <td>1460.000000</td>\n",
              "      <td>1460.000000</td>\n",
              "      <td>1460.000000</td>\n",
              "      <td>1460.000000</td>\n",
              "      <td>1460.000000</td>\n",
              "      <td>1379.000000</td>\n",
              "      <td>1460.000000</td>\n",
              "      <td>1460.000000</td>\n",
              "      <td>1460.000000</td>\n",
              "      <td>1460.000000</td>\n",
              "      <td>1460.000000</td>\n",
              "      <td>1460.000000</td>\n",
              "      <td>1460.000000</td>\n",
              "      <td>1460.000000</td>\n",
              "      <td>1460.000000</td>\n",
              "      <td>1460.000000</td>\n",
              "      <td>1460.000000</td>\n",
              "      <td>1460.000000</td>\n",
              "    </tr>\n",
              "    <tr>\n",
              "      <th>mean</th>\n",
              "      <td>730.500000</td>\n",
              "      <td>56.897260</td>\n",
              "      <td>70.049958</td>\n",
              "      <td>10516.828082</td>\n",
              "      <td>6.099315</td>\n",
              "      <td>5.575342</td>\n",
              "      <td>1971.267808</td>\n",
              "      <td>1984.865753</td>\n",
              "      <td>103.685262</td>\n",
              "      <td>443.639726</td>\n",
              "      <td>46.549315</td>\n",
              "      <td>567.240411</td>\n",
              "      <td>1057.429452</td>\n",
              "      <td>1162.626712</td>\n",
              "      <td>346.992466</td>\n",
              "      <td>5.844521</td>\n",
              "      <td>1515.463699</td>\n",
              "      <td>0.425342</td>\n",
              "      <td>0.057534</td>\n",
              "      <td>1.565068</td>\n",
              "      <td>0.382877</td>\n",
              "      <td>2.866438</td>\n",
              "      <td>1.046575</td>\n",
              "      <td>6.517808</td>\n",
              "      <td>0.613014</td>\n",
              "      <td>1978.506164</td>\n",
              "      <td>1.767123</td>\n",
              "      <td>472.980137</td>\n",
              "      <td>94.244521</td>\n",
              "      <td>46.660274</td>\n",
              "      <td>21.954110</td>\n",
              "      <td>3.409589</td>\n",
              "      <td>15.060959</td>\n",
              "      <td>2.758904</td>\n",
              "      <td>43.489041</td>\n",
              "      <td>6.321918</td>\n",
              "      <td>2007.815753</td>\n",
              "      <td>180921.195890</td>\n",
              "    </tr>\n",
              "    <tr>\n",
              "      <th>std</th>\n",
              "      <td>421.610009</td>\n",
              "      <td>42.300571</td>\n",
              "      <td>24.284752</td>\n",
              "      <td>9981.264932</td>\n",
              "      <td>1.382997</td>\n",
              "      <td>1.112799</td>\n",
              "      <td>30.202904</td>\n",
              "      <td>20.645407</td>\n",
              "      <td>181.066207</td>\n",
              "      <td>456.098091</td>\n",
              "      <td>161.319273</td>\n",
              "      <td>441.866955</td>\n",
              "      <td>438.705324</td>\n",
              "      <td>386.587738</td>\n",
              "      <td>436.528436</td>\n",
              "      <td>48.623081</td>\n",
              "      <td>525.480383</td>\n",
              "      <td>0.518911</td>\n",
              "      <td>0.238753</td>\n",
              "      <td>0.550916</td>\n",
              "      <td>0.502885</td>\n",
              "      <td>0.815778</td>\n",
              "      <td>0.220338</td>\n",
              "      <td>1.625393</td>\n",
              "      <td>0.644666</td>\n",
              "      <td>24.689725</td>\n",
              "      <td>0.747315</td>\n",
              "      <td>213.804841</td>\n",
              "      <td>125.338794</td>\n",
              "      <td>66.256028</td>\n",
              "      <td>61.119149</td>\n",
              "      <td>29.317331</td>\n",
              "      <td>55.757415</td>\n",
              "      <td>40.177307</td>\n",
              "      <td>496.123024</td>\n",
              "      <td>2.703626</td>\n",
              "      <td>1.328095</td>\n",
              "      <td>79442.502883</td>\n",
              "    </tr>\n",
              "    <tr>\n",
              "      <th>min</th>\n",
              "      <td>1.000000</td>\n",
              "      <td>20.000000</td>\n",
              "      <td>21.000000</td>\n",
              "      <td>1300.000000</td>\n",
              "      <td>1.000000</td>\n",
              "      <td>1.000000</td>\n",
              "      <td>1872.000000</td>\n",
              "      <td>1950.000000</td>\n",
              "      <td>0.000000</td>\n",
              "      <td>0.000000</td>\n",
              "      <td>0.000000</td>\n",
              "      <td>0.000000</td>\n",
              "      <td>0.000000</td>\n",
              "      <td>334.000000</td>\n",
              "      <td>0.000000</td>\n",
              "      <td>0.000000</td>\n",
              "      <td>334.000000</td>\n",
              "      <td>0.000000</td>\n",
              "      <td>0.000000</td>\n",
              "      <td>0.000000</td>\n",
              "      <td>0.000000</td>\n",
              "      <td>0.000000</td>\n",
              "      <td>0.000000</td>\n",
              "      <td>2.000000</td>\n",
              "      <td>0.000000</td>\n",
              "      <td>1900.000000</td>\n",
              "      <td>0.000000</td>\n",
              "      <td>0.000000</td>\n",
              "      <td>0.000000</td>\n",
              "      <td>0.000000</td>\n",
              "      <td>0.000000</td>\n",
              "      <td>0.000000</td>\n",
              "      <td>0.000000</td>\n",
              "      <td>0.000000</td>\n",
              "      <td>0.000000</td>\n",
              "      <td>1.000000</td>\n",
              "      <td>2006.000000</td>\n",
              "      <td>34900.000000</td>\n",
              "    </tr>\n",
              "    <tr>\n",
              "      <th>25%</th>\n",
              "      <td>365.750000</td>\n",
              "      <td>20.000000</td>\n",
              "      <td>59.000000</td>\n",
              "      <td>7553.500000</td>\n",
              "      <td>5.000000</td>\n",
              "      <td>5.000000</td>\n",
              "      <td>1954.000000</td>\n",
              "      <td>1967.000000</td>\n",
              "      <td>0.000000</td>\n",
              "      <td>0.000000</td>\n",
              "      <td>0.000000</td>\n",
              "      <td>223.000000</td>\n",
              "      <td>795.750000</td>\n",
              "      <td>882.000000</td>\n",
              "      <td>0.000000</td>\n",
              "      <td>0.000000</td>\n",
              "      <td>1129.500000</td>\n",
              "      <td>0.000000</td>\n",
              "      <td>0.000000</td>\n",
              "      <td>1.000000</td>\n",
              "      <td>0.000000</td>\n",
              "      <td>2.000000</td>\n",
              "      <td>1.000000</td>\n",
              "      <td>5.000000</td>\n",
              "      <td>0.000000</td>\n",
              "      <td>1961.000000</td>\n",
              "      <td>1.000000</td>\n",
              "      <td>334.500000</td>\n",
              "      <td>0.000000</td>\n",
              "      <td>0.000000</td>\n",
              "      <td>0.000000</td>\n",
              "      <td>0.000000</td>\n",
              "      <td>0.000000</td>\n",
              "      <td>0.000000</td>\n",
              "      <td>0.000000</td>\n",
              "      <td>5.000000</td>\n",
              "      <td>2007.000000</td>\n",
              "      <td>129975.000000</td>\n",
              "    </tr>\n",
              "    <tr>\n",
              "      <th>50%</th>\n",
              "      <td>730.500000</td>\n",
              "      <td>50.000000</td>\n",
              "      <td>69.000000</td>\n",
              "      <td>9478.500000</td>\n",
              "      <td>6.000000</td>\n",
              "      <td>5.000000</td>\n",
              "      <td>1973.000000</td>\n",
              "      <td>1994.000000</td>\n",
              "      <td>0.000000</td>\n",
              "      <td>383.500000</td>\n",
              "      <td>0.000000</td>\n",
              "      <td>477.500000</td>\n",
              "      <td>991.500000</td>\n",
              "      <td>1087.000000</td>\n",
              "      <td>0.000000</td>\n",
              "      <td>0.000000</td>\n",
              "      <td>1464.000000</td>\n",
              "      <td>0.000000</td>\n",
              "      <td>0.000000</td>\n",
              "      <td>2.000000</td>\n",
              "      <td>0.000000</td>\n",
              "      <td>3.000000</td>\n",
              "      <td>1.000000</td>\n",
              "      <td>6.000000</td>\n",
              "      <td>1.000000</td>\n",
              "      <td>1980.000000</td>\n",
              "      <td>2.000000</td>\n",
              "      <td>480.000000</td>\n",
              "      <td>0.000000</td>\n",
              "      <td>25.000000</td>\n",
              "      <td>0.000000</td>\n",
              "      <td>0.000000</td>\n",
              "      <td>0.000000</td>\n",
              "      <td>0.000000</td>\n",
              "      <td>0.000000</td>\n",
              "      <td>6.000000</td>\n",
              "      <td>2008.000000</td>\n",
              "      <td>163000.000000</td>\n",
              "    </tr>\n",
              "    <tr>\n",
              "      <th>75%</th>\n",
              "      <td>1095.250000</td>\n",
              "      <td>70.000000</td>\n",
              "      <td>80.000000</td>\n",
              "      <td>11601.500000</td>\n",
              "      <td>7.000000</td>\n",
              "      <td>6.000000</td>\n",
              "      <td>2000.000000</td>\n",
              "      <td>2004.000000</td>\n",
              "      <td>166.000000</td>\n",
              "      <td>712.250000</td>\n",
              "      <td>0.000000</td>\n",
              "      <td>808.000000</td>\n",
              "      <td>1298.250000</td>\n",
              "      <td>1391.250000</td>\n",
              "      <td>728.000000</td>\n",
              "      <td>0.000000</td>\n",
              "      <td>1776.750000</td>\n",
              "      <td>1.000000</td>\n",
              "      <td>0.000000</td>\n",
              "      <td>2.000000</td>\n",
              "      <td>1.000000</td>\n",
              "      <td>3.000000</td>\n",
              "      <td>1.000000</td>\n",
              "      <td>7.000000</td>\n",
              "      <td>1.000000</td>\n",
              "      <td>2002.000000</td>\n",
              "      <td>2.000000</td>\n",
              "      <td>576.000000</td>\n",
              "      <td>168.000000</td>\n",
              "      <td>68.000000</td>\n",
              "      <td>0.000000</td>\n",
              "      <td>0.000000</td>\n",
              "      <td>0.000000</td>\n",
              "      <td>0.000000</td>\n",
              "      <td>0.000000</td>\n",
              "      <td>8.000000</td>\n",
              "      <td>2009.000000</td>\n",
              "      <td>214000.000000</td>\n",
              "    </tr>\n",
              "    <tr>\n",
              "      <th>max</th>\n",
              "      <td>1460.000000</td>\n",
              "      <td>190.000000</td>\n",
              "      <td>313.000000</td>\n",
              "      <td>215245.000000</td>\n",
              "      <td>10.000000</td>\n",
              "      <td>9.000000</td>\n",
              "      <td>2010.000000</td>\n",
              "      <td>2010.000000</td>\n",
              "      <td>1600.000000</td>\n",
              "      <td>5644.000000</td>\n",
              "      <td>1474.000000</td>\n",
              "      <td>2336.000000</td>\n",
              "      <td>6110.000000</td>\n",
              "      <td>4692.000000</td>\n",
              "      <td>2065.000000</td>\n",
              "      <td>572.000000</td>\n",
              "      <td>5642.000000</td>\n",
              "      <td>3.000000</td>\n",
              "      <td>2.000000</td>\n",
              "      <td>3.000000</td>\n",
              "      <td>2.000000</td>\n",
              "      <td>8.000000</td>\n",
              "      <td>3.000000</td>\n",
              "      <td>14.000000</td>\n",
              "      <td>3.000000</td>\n",
              "      <td>2010.000000</td>\n",
              "      <td>4.000000</td>\n",
              "      <td>1418.000000</td>\n",
              "      <td>857.000000</td>\n",
              "      <td>547.000000</td>\n",
              "      <td>552.000000</td>\n",
              "      <td>508.000000</td>\n",
              "      <td>480.000000</td>\n",
              "      <td>738.000000</td>\n",
              "      <td>15500.000000</td>\n",
              "      <td>12.000000</td>\n",
              "      <td>2010.000000</td>\n",
              "      <td>755000.000000</td>\n",
              "    </tr>\n",
              "  </tbody>\n",
              "</table>\n",
              "</div>"
            ],
            "text/plain": [
              "                Id   MSSubClass  ...       YrSold      SalePrice\n",
              "count  1460.000000  1460.000000  ...  1460.000000    1460.000000\n",
              "mean    730.500000    56.897260  ...  2007.815753  180921.195890\n",
              "std     421.610009    42.300571  ...     1.328095   79442.502883\n",
              "min       1.000000    20.000000  ...  2006.000000   34900.000000\n",
              "25%     365.750000    20.000000  ...  2007.000000  129975.000000\n",
              "50%     730.500000    50.000000  ...  2008.000000  163000.000000\n",
              "75%    1095.250000    70.000000  ...  2009.000000  214000.000000\n",
              "max    1460.000000   190.000000  ...  2010.000000  755000.000000\n",
              "\n",
              "[8 rows x 38 columns]"
            ]
          },
          "metadata": {},
          "execution_count": 3
        }
      ]
    },
    {
      "cell_type": "code",
      "metadata": {
        "id": "wjPCa42gfbWX",
        "colab": {
          "base_uri": "https://localhost:8080/"
        },
        "outputId": "5c006a6a-939a-4900-cf6f-79b5f4256385"
      },
      "source": [
        "train_data_numeric.columns.values"
      ],
      "execution_count": null,
      "outputs": [
        {
          "output_type": "execute_result",
          "data": {
            "text/plain": [
              "array(['Id', 'MSSubClass', 'LotFrontage', 'LotArea', 'OverallQual',\n",
              "       'OverallCond', 'YearBuilt', 'YearRemodAdd', 'MasVnrArea',\n",
              "       'BsmtFinSF1', 'BsmtFinSF2', 'BsmtUnfSF', 'TotalBsmtSF', '1stFlrSF',\n",
              "       '2ndFlrSF', 'LowQualFinSF', 'GrLivArea', 'BsmtFullBath',\n",
              "       'BsmtHalfBath', 'FullBath', 'HalfBath', 'BedroomAbvGr',\n",
              "       'KitchenAbvGr', 'TotRmsAbvGrd', 'Fireplaces', 'GarageYrBlt',\n",
              "       'GarageCars', 'GarageArea', 'WoodDeckSF', 'OpenPorchSF',\n",
              "       'EnclosedPorch', '3SsnPorch', 'ScreenPorch', 'PoolArea', 'MiscVal',\n",
              "       'MoSold', 'YrSold', 'SalePrice'], dtype=object)"
            ]
          },
          "metadata": {},
          "execution_count": 4
        }
      ]
    },
    {
      "cell_type": "code",
      "metadata": {
        "id": "byJr2ZaRobZc",
        "colab": {
          "base_uri": "https://localhost:8080/"
        },
        "outputId": "d07bef15-07e1-43df-e5b9-504d2cc3b714"
      },
      "source": [
        "train_data_categorical = train_data.select_dtypes(include=\"object\")\n",
        "train_data_categorical.columns.values"
      ],
      "execution_count": null,
      "outputs": [
        {
          "output_type": "execute_result",
          "data": {
            "text/plain": [
              "array(['MSZoning', 'Street', 'Alley', 'LotShape', 'LandContour',\n",
              "       'Utilities', 'LotConfig', 'LandSlope', 'Neighborhood',\n",
              "       'Condition1', 'Condition2', 'BldgType', 'HouseStyle', 'RoofStyle',\n",
              "       'RoofMatl', 'Exterior1st', 'Exterior2nd', 'MasVnrType',\n",
              "       'ExterQual', 'ExterCond', 'Foundation', 'BsmtQual', 'BsmtCond',\n",
              "       'BsmtExposure', 'BsmtFinType1', 'BsmtFinType2', 'Heating',\n",
              "       'HeatingQC', 'CentralAir', 'Electrical', 'KitchenQual',\n",
              "       'Functional', 'FireplaceQu', 'GarageType', 'GarageFinish',\n",
              "       'GarageQual', 'GarageCond', 'PavedDrive', 'PoolQC', 'Fence',\n",
              "       'MiscFeature', 'SaleType', 'SaleCondition'], dtype=object)"
            ]
          },
          "metadata": {},
          "execution_count": 5
        }
      ]
    },
    {
      "cell_type": "markdown",
      "metadata": {
        "id": "Vj4SUjghaCIE"
      },
      "source": [
        "All categorical variables will be one hot encoded"
      ]
    },
    {
      "cell_type": "code",
      "metadata": {
        "id": "DDKxwTk6obZh",
        "colab": {
          "base_uri": "https://localhost:8080/"
        },
        "outputId": "9f5d295f-fa47-46f1-b47c-de8bbe6fb652"
      },
      "source": [
        "train_data_numeric.loc[:,train_data.nunique()<13].columns.values"
      ],
      "execution_count": null,
      "outputs": [
        {
          "output_type": "execute_result",
          "data": {
            "text/plain": [
              "array(['OverallQual', 'OverallCond', 'BsmtFullBath', 'BsmtHalfBath',\n",
              "       'FullBath', 'HalfBath', 'BedroomAbvGr', 'KitchenAbvGr',\n",
              "       'TotRmsAbvGrd', 'Fireplaces', 'GarageCars', 'PoolArea', 'MoSold',\n",
              "       'YrSold'], dtype=object)"
            ]
          },
          "metadata": {},
          "execution_count": 6
        }
      ]
    },
    {
      "cell_type": "markdown",
      "metadata": {
        "id": "a-QyZByWobZl"
      },
      "source": [
        "# We have 14 categorical variables hidden as numerical values because we see that the above column values have less than 13 unique values in the entire dataset, so these features are categorical features"
      ]
    },
    {
      "cell_type": "markdown",
      "metadata": {
        "id": "s7-gfoeDZ9AX"
      },
      "source": [
        " We will one-hot encode these categorical variables too"
      ]
    },
    {
      "cell_type": "markdown",
      "metadata": {
        "id": "boMtv02IobZp"
      },
      "source": [
        "# Plots"
      ]
    },
    {
      "cell_type": "code",
      "metadata": {
        "id": "RhnbJDcMobZp",
        "colab": {
          "base_uri": "https://localhost:8080/",
          "height": 320
        },
        "outputId": "7754be00-c273-4113-ad93-fb03b14bcff4"
      },
      "source": [
        "plt.subplot(122)\n",
        "plt.xlabel(\"Lot Area log\")\n",
        "plt.ylabel(\"SalePrice\")\n",
        "plt.title(\"Log Lot Area vs SalePrice\")\n",
        "plt.text(10,700000,\"Not Many Outliers Now\")\n",
        "plt.scatter(np.log(train_data[\"LotArea\"]),train_data[\"SalePrice\"])\n",
        "\n",
        "\n",
        "plt.subplot(121)\n",
        "plt.xlabel(\"Lot Area\")\n",
        "plt.ylabel(\"SalePrice\")\n",
        "plt.title(\"Lot Area vs SalePrice\")\n",
        "plt.scatter(train_data[\"LotArea\"],train_data[\"SalePrice\"])\n",
        "plt.text(100000,600000,\"Many Outliers\")\n",
        "plt.subplots_adjust(top=0.92, bottom=0.08, left=0.10, right=2.0, hspace=0.25,\n",
        "                    wspace=0.35)\n",
        "           \n"
      ],
      "execution_count": null,
      "outputs": [
        {
          "output_type": "display_data",
          "data": {
            "image/png": "[encoded data removed]",
            "text/plain": [
              "<Figure size 432x288 with 2 Axes>"
            ]
          },
          "metadata": {
            "needs_background": "light"
          }
        }
      ]
    },
    {
      "cell_type": "code",
      "metadata": {
        "id": "HbgdqZevobZt",
        "colab": {
          "base_uri": "https://localhost:8080/",
          "height": 304
        },
        "outputId": "349a0c0f-4321-4b52-f897-27c69fac2937"
      },
      "source": [
        "to_plot = train_data[[\"MoSold\",\"SalePrice\"]].copy().groupby(\"MoSold\").mean().apply(lambda x : np.log2(x))\n",
        "plt.subplot(111)\n",
        "plt.xlabel(\"Month Sold\")\n",
        "plt.ylabel(\"SalePrice\")\n",
        "plt.bar(to_plot.index.values,to_plot.values[:,0])\n",
        "plt.subplots_adjust(top=0.92, bottom=0.08, left=0.10, right=2.0, hspace=0.25,\n",
        "                    wspace=0.35)"
      ],
      "execution_count": null,
      "outputs": [
        {
          "output_type": "display_data",
          "data": {
            "image/png": "[encoded data removed]",
            "text/plain": [
              "<Figure size 432x288 with 1 Axes>"
            ]
          },
          "metadata": {
            "needs_background": "light"
          }
        }
      ]
    },
    {
      "cell_type": "code",
      "metadata": {
        "id": "ZiMxHhJMhZjX",
        "colab": {
          "base_uri": "https://localhost:8080/",
          "height": 304
        },
        "outputId": "48af7581-15c5-4822-bf94-0d5ab8e3abf1"
      },
      "source": [
        "plt.subplot(121)\n",
        "plt.xlabel(\"Index\")\n",
        "plt.ylabel(\"Sale price\")\n",
        "plt.hist(train_data[\"SalePrice\"])\n",
        "\n",
        "plt.subplot(122)\n",
        "plt.xlabel(\"Index\")\n",
        "plt.ylabel(\"Log sale price\")\n",
        "plt.hist(np.log1p(train_data[\"SalePrice\"]))\n",
        "plt.subplots_adjust(top=0.92, bottom=0.08, left=0.10, right=2.0, hspace=0.25,\n",
        "                    wspace=0.35)"
      ],
      "execution_count": null,
      "outputs": [
        {
          "output_type": "display_data",
          "data": {
            "image/png": "[encoded data removed]",
            "text/plain": [
              "<Figure size 432x288 with 2 Axes>"
            ]
          },
          "metadata": {
            "needs_background": "light"
          }
        }
      ]
    },
    {
      "cell_type": "markdown",
      "metadata": {
        "id": "A6Pn5QLuioCl"
      },
      "source": [
        "Skewness is likely to create bias and hence lets do log transfor so that data is approximately normal and works well with multivariate linear regression"
      ]
    },
    {
      "cell_type": "code",
      "metadata": {
        "id": "Dca6rN5ii-HK",
        "colab": {
          "base_uri": "https://localhost:8080/",
          "height": 304
        },
        "outputId": "d5db56ab-9563-4e7d-af1e-d48578e0a832"
      },
      "source": [
        "plt.subplot(121)\n",
        "plt.xlabel(\"Index\")\n",
        "plt.ylabel(\"Sale price\")\n",
        "plt.scatter(train_data[\"TotalBsmtSF\"],np.log1p(train_data[\"SalePrice\"]))\n",
        "\n",
        "plt.subplot(122)\n",
        "plt.xlabel(\"Index\")\n",
        "plt.ylabel(\"Log sale price\")\n",
        "plt.scatter(np.log1p(train_data[\"TotalBsmtSF\"]),np.log1p(train_data[\"SalePrice\"]))\n",
        "plt.subplots_adjust(top=0.92, bottom=0.08, left=0.10, right=2.0, hspace=0.25,\n",
        "                    wspace=0.35)"
      ],
      "execution_count": null,
      "outputs": [
        {
          "output_type": "display_data",
          "data": {
            "image/png": "[encoded data removed]",
            "text/plain": [
              "<Figure size 432x288 with 2 Axes>"
            ]
          },
          "metadata": {
            "needs_background": "light"
          }
        }
      ]
    },
    {
      "cell_type": "code",
      "metadata": {
        "id": "2nyiiEfkje-8",
        "colab": {
          "base_uri": "https://localhost:8080/",
          "height": 304
        },
        "outputId": "582c6bea-626e-4d7f-d552-b870c28a5fed"
      },
      "source": [
        "plt.subplot(121)\n",
        "plt.xlabel(\"Index\")\n",
        "plt.ylabel(\"Sale price\")\n",
        "plt.hist(train_data[\"LotArea\"])\n",
        "\n",
        "plt.subplot(122)\n",
        "plt.xlabel(\"Index\")\n",
        "plt.ylabel(\"Log sale price\")\n",
        "plt.hist(np.log1p(train_data[\"LotArea\"]))\n",
        "plt.subplots_adjust(top=0.92, bottom=0.08, left=0.10, right=2.0, hspace=0.25,\n",
        "                    wspace=0.35)"
      ],
      "execution_count": null,
      "outputs": [
        {
          "output_type": "display_data",
          "data": {
            "image/png": "[encoded data removed]",
            "text/plain": [
              "<Figure size 432x288 with 2 Axes>"
            ]
          },
          "metadata": {
            "needs_background": "light"
          }
        }
      ]
    },
    {
      "cell_type": "code",
      "metadata": {
        "id": "ehCnW638pTFU",
        "colab": {
          "base_uri": "https://localhost:8080/",
          "height": 304
        },
        "outputId": "516b05d2-a919-4a48-a24a-708bf6faa7b8"
      },
      "source": [
        "plt.subplot(121)\n",
        "plt.xlabel(\"Index\")\n",
        "plt.ylabel(\"Basement Square feet\")\n",
        "plt.hist(train_data[\"TotalBsmtSF\"])\n",
        "\n",
        "plt.subplot(122)\n",
        "plt.xlabel(\"Index\")\n",
        "plt.ylabel(\"Log Basemetn Square Feet\")\n",
        "plt.hist(np.log1p(train_data[\"TotalBsmtSF\"]))\n",
        "plt.subplots_adjust(top=0.92, bottom=0.08, left=0.10, right=2.0, hspace=0.25,\n",
        "                    wspace=0.35)"
      ],
      "execution_count": null,
      "outputs": [
        {
          "output_type": "display_data",
          "data": {
            "image/png": "[encoded data removed]",
            "text/plain": [
              "<Figure size 432x288 with 2 Axes>"
            ]
          },
          "metadata": {
            "needs_background": "light"
          }
        }
      ]
    },
    {
      "cell_type": "markdown",
      "metadata": {
        "id": "1jrpsXrGj-QG"
      },
      "source": [
        "Looks like log transformation of numerical features removes skewness for those variables which are highly skewed."
      ]
    },
    {
      "cell_type": "code",
      "metadata": {
        "id": "9TC6YCjJobZx"
      },
      "source": [
        "# identify cat variables hidden as numerical\n",
        "# convert categorical variables to dummy variables\n",
        "# impute missing values using mean\n",
        "# scale the data using power transformer\n",
        "# log transform skewed features\n",
        "  \n",
        "def clean_train(train_to_clean):\n",
        "    cont_vars = train_to_clean.select_dtypes(exclude=\"object\").columns.values\n",
        "    num_cat_vars = train_to_clean[cont_vars].loc[:,train_to_clean[cont_vars].nunique()<13].columns.values\n",
        "    cont_vars = np.array([x for x in cont_vars.tolist() if x not in num_cat_vars.tolist()])\n",
        "\n",
        "    skewd_feat = train_to_clean[cont_vars].apply(lambda x : skew(x,nan_policy='propagate'),axis=0)\n",
        "    skewd_feat = skewd_feat[skewd_feat>0.7]\n",
        "    train_to_clean[skewd_feat.index] = np.log1p(train_to_clean[skewd_feat.index])\n",
        "\n",
        "    cat_vars = train_to_clean.select_dtypes(include=\"object\").columns.values\n",
        "    cat_vars = np.append(cat_vars,num_cat_vars)\n",
        "    data_cat = pd.get_dummies(train_to_clean,columns=cat_vars)\n",
        "    final = data_cat.set_index(\"Id\")\n",
        "    final = final.groupby(final.columns, axis = 1).transform(lambda x: x.fillna(x.mean())) \n",
        "    return final,skewd_feat\n",
        "    \n",
        "def clean_test(test_to_clean,transformed_train,skewd_feat):\n",
        "    cont_vars = test_to_clean.select_dtypes(exclude=\"object\").columns.values\n",
        "    num_cat_vars = test_to_clean[cont_vars].loc[:,test_to_clean[cont_vars].nunique()<13].columns.values\n",
        "    cont_vars = np.array([x for x in cont_vars.tolist() if x not in num_cat_vars.tolist()])\n",
        "    test_to_clean[skewd_feat.index] = np.log1p(test_to_clean[skewd_feat.index])\n",
        "\n",
        "    cat_vars = test_to_clean.select_dtypes(include=\"object\").columns.values\n",
        "    cat_vars = np.append(cat_vars,num_cat_vars)\n",
        "    data_cat = pd.get_dummies(test_to_clean,columns=cat_vars)\n",
        "    final = data_cat.set_index(\"Id\")\n",
        "    final = final.groupby(final.columns, axis = 1).transform(lambda x: x.fillna(x.mean()))\n",
        "    final = final.T.reindex(index = transformed_train.columns.values).fillna(0).T\n",
        "    return final\n",
        "  \n",
        "\n",
        "\n",
        "    "
      ],
      "execution_count": null,
      "outputs": []
    },
    {
      "cell_type": "code",
      "metadata": {
        "id": "frvGXaDO01s2"
      },
      "source": [
        "def fitRidgeCV(train_fit,target,**kwargs):\n",
        "    train_y = target\n",
        "    train_x = train_fit\n",
        "    clf = RidgeCV(**kwargs)\n",
        "    clf.fit(train_x,train_y)\n",
        "    print(\"train loss:{}\".format(\"test\"))\n",
        "    return clf\n",
        "\n",
        "def predictLassoCV(test_fit,clf):\n",
        "    return clf.predict(test_fit)"
      ],
      "execution_count": null,
      "outputs": []
    },
    {
      "cell_type": "code",
      "metadata": {
        "id": "xt__T7wLJbEf"
      },
      "source": [
        "def fitLassoCV(train_fit,target,**kwargs):\n",
        "    train_y = target\n",
        "    train_x = train_fit\n",
        "    clf = LassoCV(**kwargs)\n",
        "    clf.fit(train_x,train_y)\n",
        "    print(\"train loss:{}\".format(\"test\"))\n",
        "    return clf\n",
        "\n",
        "def predictLassoCV(test_fit,clf):\n",
        "    return clf.predict(test_fit)"
      ],
      "execution_count": null,
      "outputs": []
    },
    {
      "cell_type": "code",
      "metadata": {
        "id": "ezPkq7myynWs"
      },
      "source": [
        "target = np.log1p(train_data[\"SalePrice\"])\n",
        "train_cleaned,skewd_feat = clean_train(train_data.drop(\"SalePrice\",axis=1))\n",
        "test_cleaned = clean_test(test_data,train_cleaned,skewd_feat)\n"
      ],
      "execution_count": null,
      "outputs": []
    },
    {
      "cell_type": "code",
      "metadata": {
        "id": "Ra-OT1zEJIel"
      },
      "source": [
        "train_cleaned = train_cleaned.fillna(0)"
      ],
      "execution_count": null,
      "outputs": []
    },
    {
      "cell_type": "code",
      "metadata": {
        "id": "o5lmkI6cobZ1",
        "colab": {
          "base_uri": "https://localhost:8080/"
        },
        "outputId": "85509171-ff73-4af6-ed08-55d59c883c0b"
      },
      "source": [
        "ridge_alpha = [0.05, 0.1, 0.3, 1, 3, 5, 6,7,7.5,8,8.5,9,10,11,12, 15, 30, 50, 75,100]\n",
        "train_final = train_cleaned\n",
        "test_final = test_cleaned\n",
        "ridgeCV_model = fitRidgeCV(train_cleaned,target,normalize=False,alphas=ridge_alpha,store_cv_values = True)\n",
        "\n"
      ],
      "execution_count": null,
      "outputs": [
        {
          "output_type": "stream",
          "name": "stdout",
          "text": [
            "train loss:test\n"
          ]
        }
      ]
    },
    {
      "cell_type": "code",
      "metadata": {
        "id": "W1kLYnbJJpbH",
        "colab": {
          "base_uri": "https://localhost:8080/"
        },
        "outputId": "db36062f-ed1a-4b6e-e70a-7e8ff13f8497"
      },
      "source": [
        "lasso_alpha = [1, 0.5, 0.1, 0.02, 0.001, 0.0003,0.0004,0.0005]\n",
        "train_final = train_cleaned\n",
        "test_final = test_cleaned\n",
        "lassoCV_model = fitLassoCV(train_cleaned,target,cv=5, random_state=0,normalize=False,alphas=lasso_alpha)"
      ],
      "execution_count": null,
      "outputs": [
        {
          "output_type": "stream",
          "name": "stderr",
          "text": [
            "/usr/local/lib/python3.7/dist-packages/sklearn/linear_model/_coordinate_descent.py:472: ConvergenceWarning: Objective did not converge. You might want to increase the number of iterations. Duality gap: 0.08858502739244756, tolerance: 0.01891259276039609\n",
            "  tol, rng, random, positive)\n",
            "/usr/local/lib/python3.7/dist-packages/sklearn/linear_model/_coordinate_descent.py:472: ConvergenceWarning: Objective did not converge. You might want to increase the number of iterations. Duality gap: 1.6399140477359495, tolerance: 0.018002191385488822\n",
            "  tol, rng, random, positive)\n"
          ]
        },
        {
          "output_type": "stream",
          "name": "stdout",
          "text": [
            "train loss:test\n"
          ]
        }
      ]
    },
    {
      "cell_type": "markdown",
      "metadata": {
        "id": "f43nZs0-QiNX"
      },
      "source": [
        "# Error plots for Ridge cross validation and lasso crossvalidation"
      ]
    },
    {
      "cell_type": "code",
      "metadata": {
        "id": "LWFi_NfMQoo8",
        "colab": {
          "base_uri": "https://localhost:8080/",
          "height": 308
        },
        "outputId": "0b84523d-4808-45eb-d6bb-b566e867a95f"
      },
      "source": [
        "plt.plot(ridgeCV_model.cv_values_.mean(axis=0))\n",
        "plt.xlabel(\"alpha values\")\n",
        "plt.ylabel(\"mean of Mean squared error of LOOV\")\n",
        "plt.ylim(0,0.05)\n",
        "plt.xticks(range(1,len(ridge_alpha)+1),ridge_alpha)\n",
        "plt.subplots_adjust(top=0.92, bottom=0.08, left=0.10, right=2.0, hspace=0.25,\n",
        "                    wspace=0.35)\n",
        "plt.show()\n"
      ],
      "execution_count": null,
      "outputs": [
        {
          "output_type": "display_data",
          "data": {
            "image/png": "[encoded data removed]",
            "text/plain": [
              "<Figure size 432x288 with 1 Axes>"
            ]
          },
          "metadata": {
            "needs_background": "light"
          }
        }
      ]
    },
    {
      "cell_type": "code",
      "metadata": {
        "id": "vTD7OrrHLq3K",
        "colab": {
          "base_uri": "https://localhost:8080/",
          "height": 304
        },
        "outputId": "612b946e-01de-4543-e3c8-2cebcdfc718c"
      },
      "source": [
        "plt.plot(lassoCV_model.mse_path_)\n",
        "plt.legend([\"cv\"+str(i) for i in range(1,lassoCV_model.mse_path_.shape[1]+1)])\n",
        "plt.xticks(range(len(lasso_alpha)),lasso_alpha)\n",
        "plt.xlabel(\"Alpha value\")\n",
        "plt.ylabel(\"Test Error\")\n",
        "plt.subplots_adjust(top=0.92, bottom=0.08, left=0.10, right=2.0, hspace=0.25,\n",
        "                    wspace=0.35)\n",
        "plt.show()\n"
      ],
      "execution_count": null,
      "outputs": [
        {
          "output_type": "display_data",
          "data": {
            "image/png": "[encoded data removed]",
            "text/plain": [
              "<Figure size 432x288 with 1 Axes>"
            ]
          },
          "metadata": {
            "needs_background": "light"
          }
        }
      ]
    },
    {
      "cell_type": "code",
      "metadata": {
        "id": "8Xvl-ITSKDol"
      },
      "source": [
        "ridge_output = ridgeCV_model.predict(test_cleaned)"
      ],
      "execution_count": null,
      "outputs": []
    },
    {
      "cell_type": "code",
      "metadata": {
        "id": "QdujGtX1Igmo"
      },
      "source": [
        "lasso_output = lassoCV_model.predict(test_cleaned)"
      ],
      "execution_count": null,
      "outputs": []
    },
    {
      "cell_type": "code",
      "metadata": {
        "id": "Wetm8aO7obaD"
      },
      "source": [
        "def writeoutput(output_df, filename, columns, index):\n",
        "  csv_df = pd.DataFrame(output_df,columns=columns,index=index)\n",
        "  csv_df.reset_index()\n",
        "  csv_df.to_csv(filename)"
      ],
      "execution_count": null,
      "outputs": []
    },
    {
      "cell_type": "markdown",
      "metadata": {
        "id": "QkZJ3L28TMHF"
      },
      "source": [
        "# Final Regression Equation and important predictors for House price prediction"
      ]
    },
    {
      "cell_type": "code",
      "metadata": {
        "id": "OT3A0XHDTWdl",
        "colab": {
          "base_uri": "https://localhost:8080/",
          "height": 418
        },
        "outputId": "ba03a783-c66a-482c-ff9c-150d26e0e985"
      },
      "source": [
        "lasso_coeff_values = lassoCV_model.coef_\n",
        "lasso_coeff_values = pd.DataFrame(lasso_coeff_values,index=test_cleaned.columns.values)\n",
        "lasso_coeff_values.sort_values(0)"
      ],
      "execution_count": null,
      "outputs": [
        {
          "output_type": "execute_result",
          "data": {
            "text/html": [
              "<div>\n",
              "<style scoped>\n",
              "    .dataframe tbody tr th:only-of-type {\n",
              "        vertical-align: middle;\n",
              "    }\n",
              "\n",
              "    .dataframe tbody tr th {\n",
              "        vertical-align: top;\n",
              "    }\n",
              "\n",
              "    .dataframe thead th {\n",
              "        text-align: right;\n",
              "    }\n",
              "</style>\n",
              "<table border=\"1\" class=\"dataframe\">\n",
              "  <thead>\n",
              "    <tr style=\"text-align: right;\">\n",
              "      <th></th>\n",
              "      <th>0</th>\n",
              "    </tr>\n",
              "  </thead>\n",
              "  <tbody>\n",
              "    <tr>\n",
              "      <th>MSZoning_C (all)</th>\n",
              "      <td>-0.338691</td>\n",
              "    </tr>\n",
              "    <tr>\n",
              "      <th>PoolArea_480</th>\n",
              "      <td>-0.336532</td>\n",
              "    </tr>\n",
              "    <tr>\n",
              "      <th>RoofMatl_ClyTile</th>\n",
              "      <td>-0.192960</td>\n",
              "    </tr>\n",
              "    <tr>\n",
              "      <th>OverallCond_3</th>\n",
              "      <td>-0.146456</td>\n",
              "    </tr>\n",
              "    <tr>\n",
              "      <th>Condition2_PosN</th>\n",
              "      <td>-0.134934</td>\n",
              "    </tr>\n",
              "    <tr>\n",
              "      <th>...</th>\n",
              "      <td>...</td>\n",
              "    </tr>\n",
              "    <tr>\n",
              "      <th>Neighborhood_StoneBr</th>\n",
              "      <td>0.093819</td>\n",
              "    </tr>\n",
              "    <tr>\n",
              "      <th>OverallQual_10</th>\n",
              "      <td>0.099400</td>\n",
              "    </tr>\n",
              "    <tr>\n",
              "      <th>Neighborhood_Crawfor</th>\n",
              "      <td>0.115475</td>\n",
              "    </tr>\n",
              "    <tr>\n",
              "      <th>OverallQual_9</th>\n",
              "      <td>0.153208</td>\n",
              "    </tr>\n",
              "    <tr>\n",
              "      <th>GrLivArea</th>\n",
              "      <td>0.455671</td>\n",
              "    </tr>\n",
              "  </tbody>\n",
              "</table>\n",
              "<p>365 rows × 1 columns</p>\n",
              "</div>"
            ],
            "text/plain": [
              "                             0\n",
              "MSZoning_C (all)     -0.338691\n",
              "PoolArea_480         -0.336532\n",
              "RoofMatl_ClyTile     -0.192960\n",
              "OverallCond_3        -0.146456\n",
              "Condition2_PosN      -0.134934\n",
              "...                        ...\n",
              "Neighborhood_StoneBr  0.093819\n",
              "OverallQual_10        0.099400\n",
              "Neighborhood_Crawfor  0.115475\n",
              "OverallQual_9         0.153208\n",
              "GrLivArea             0.455671\n",
              "\n",
              "[365 rows x 1 columns]"
            ]
          },
          "metadata": {},
          "execution_count": 25
        }
      ]
    },
    {
      "cell_type": "markdown",
      "metadata": {
        "id": "4Wtoy-7NU2v_"
      },
      "source": [
        " We can see that Low Overall quality index and less pool area negatively effect the sale price of the house\n",
        " \n",
        " High overall quality rating of 10,9 and neighborhoods of Crawfor and StoneBr are postively associated with high sale prices"
      ]
    },
    {
      "cell_type": "markdown",
      "metadata": {
        "id": "Xkd1sDZjS9ck"
      },
      "source": [
        "# Following code downloads predict sales prices for test data.\n"
      ]
    },
    {
      "cell_type": "code",
      "metadata": {
        "id": "QM2kVf_PKpbB"
      },
      "source": [
        "writeoutput(np.expm1(ridge_output),\"ridgecv_output.csv\",[\"SalePrice\"],test_data[\"Id\"])"
      ],
      "execution_count": null,
      "outputs": []
    },
    {
      "cell_type": "code",
      "metadata": {
        "id": "99pTdALsKrE0"
      },
      "source": [
        "writeoutput(np.expm1(lasso_output),\"lassocv_output.csv\", [\"SalePrice\"], test_data[\"Id\"])"
      ],
      "execution_count": null,
      "outputs": []
    },
    {
      "cell_type": "code",
      "metadata": {
        "id": "VKe2TfnVLAF5"
      },
      "source": [
        "writeoutput(lasso_coeff_values.values,\"Estimated_Coefficient_Values.csv\", [\"values\"],lasso_coeff_values.index )"
      ],
      "execution_count": null,
      "outputs": []
    },
    {
      "cell_type": "code",
      "metadata": {
        "id": "8rn1lg6wWWmT"
      },
      "source": [
        ""
      ],
      "execution_count": null,
      "outputs": []
    }
  ]
}